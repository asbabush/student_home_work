{
 "cells": [
  {
   "cell_type": "code",
   "execution_count": 2,
   "id": "87a98b36",
   "metadata": {},
   "outputs": [],
   "source": [
    "import re"
   ]
  },
  {
   "cell_type": "markdown",
   "id": "0e547bf5",
   "metadata": {},
   "source": [
    "Задача 1: Вернуть первое слово из строки."
   ]
  },
  {
   "cell_type": "code",
   "execution_count": 37,
   "id": "b59ba429",
   "metadata": {},
   "outputs": [
    {
     "data": {
      "text/plain": [
       "'When'"
      ]
     },
     "execution_count": 37,
     "metadata": {},
     "output_type": "execute_result"
    }
   ],
   "source": [
    "result = re.search(r'\\w*', 'When I pulled up, jumped out with the pump-pump 32 shots and ducked out')\n",
    "result.group(0)"
   ]
  },
  {
   "cell_type": "markdown",
   "id": "efe220f2",
   "metadata": {},
   "source": [
    "Задача 2: Вернуть первые два символа каждого слова."
   ]
  },
  {
   "cell_type": "code",
   "execution_count": 107,
   "id": "229b265a",
   "metadata": {},
   "outputs": [
    {
     "data": {
      "text/plain": [
       "['Wh',\n",
       " 'I ',\n",
       " 'pu',\n",
       " 'up',\n",
       " 'ju',\n",
       " 'ou',\n",
       " 'wi',\n",
       " 'th',\n",
       " 'pu',\n",
       " 'pu',\n",
       " '32',\n",
       " 'sh',\n",
       " 'an',\n",
       " 'du',\n",
       " 'ou']"
      ]
     },
     "execution_count": 107,
     "metadata": {},
     "output_type": "execute_result"
    }
   ],
   "source": [
    "result = re.findall(r'\\b\\w.', 'When I pulled up, jumped out with the pump-pump 32 shots and ducked out')\n",
    "result"
   ]
  },
  {
   "cell_type": "markdown",
   "id": "80711afa",
   "metadata": {},
   "source": [
    "Задача 3: Вернуть список доменов из списка адресов электронной почты. Доп.: вытащить только домен\n",
    "верхнего уровня"
   ]
  },
  {
   "cell_type": "code",
   "execution_count": 117,
   "id": "a6100306",
   "metadata": {},
   "outputs": [
    {
     "data": {
      "text/plain": [
       "['@gmail.com', '@test.in', '@analyticsvidhya.com', '@rest.biz']"
      ]
     },
     "execution_count": 117,
     "metadata": {},
     "output_type": "execute_result"
    }
   ],
   "source": [
    "result = re.findall(r'@\\w*.\\w*', 'abc.test@gmail.com, xyz@test.in, test.first@analyticsvidhya.com, first.test@rest.biz')\n",
    "result"
   ]
  },
  {
   "cell_type": "markdown",
   "id": "2792f304",
   "metadata": {},
   "source": [
    "Извлечь дату из строки ('Amit 34-3456 12-05-2007, XYZ 56-4532 11-11-2011, ABC 67-8945 12-01-\n",
    "2009’). Доп.: вытащить только год"
   ]
  },
  {
   "cell_type": "code",
   "execution_count": 136,
   "id": "5980ca89",
   "metadata": {},
   "outputs": [
    {
     "data": {
      "text/plain": [
       "['2007', '2011', '2009']"
      ]
     },
     "execution_count": 136,
     "metadata": {},
     "output_type": "execute_result"
    }
   ],
   "source": [
    "result = re.findall(r'\\d{2}-\\d{2}-(\\d{4})', 'Amit 34-3456 12-05-2007, XYZ 56-4532 11-11-2011, ABC 67-8945 12-01-2009')\n",
    "result"
   ]
  },
  {
   "cell_type": "markdown",
   "id": "09457adf",
   "metadata": {},
   "source": [
    "Задача 5: Извлечь все слова, начинающиеся на гласную"
   ]
  },
  {
   "cell_type": "code",
   "execution_count": 23,
   "id": "cb211d7e",
   "metadata": {
    "scrolled": true
   },
   "outputs": [
    {
     "data": {
      "text/plain": [
       "['I', 'up', 'out', 'and', 'out']"
      ]
     },
     "execution_count": 23,
     "metadata": {},
     "output_type": "execute_result"
    }
   ],
   "source": [
    "result = re.findall(r'\\b[aeiou]\\w*|[AEIOU]\\w*', 'When I pulled up, jumped out with the pump-pump 32 shots and ducked out')\n",
    "result"
   ]
  },
  {
   "cell_type": "markdown",
   "id": "4412c0b2",
   "metadata": {},
   "source": [
    "Задача 6: Разбить строку по нескольким разделителям"
   ]
  },
  {
   "cell_type": "code",
   "execution_count": 32,
   "id": "fd988f92",
   "metadata": {},
   "outputs": [
    {
     "data": {
      "text/plain": [
       "['When',\n",
       " 'I',\n",
       " 'pulled',\n",
       " 'up',\n",
       " '',\n",
       " 'jumped',\n",
       " '',\n",
       " '',\n",
       " 'out',\n",
       " 'with',\n",
       " 'the',\n",
       " '',\n",
       " '',\n",
       " 'pump-pump',\n",
       " '32',\n",
       " 'shots',\n",
       " 'and',\n",
       " 'ducked',\n",
       " 'out']"
      ]
     },
     "execution_count": 32,
     "metadata": {},
     "output_type": "execute_result"
    }
   ],
   "source": [
    "result = re.split(r'[,:_\\s]', 'When I pulled up, jumped : out with the _ pump-pump 32 shots and ducked out')\n",
    "result"
   ]
  },
  {
   "cell_type": "markdown",
   "id": "f56ad523",
   "metadata": {},
   "source": [
    "Задача 7: Проверить телефонный номер (номер должен быть длиной 10 знаков и начинаться с 8 или 9)"
   ]
  },
  {
   "cell_type": "code",
   "execution_count": 69,
   "id": "75915ef2",
   "metadata": {},
   "outputs": [
    {
     "data": {
      "text/plain": [
       "['8324567891', '9101230089']"
      ]
     },
     "execution_count": 69,
     "metadata": {},
     "output_type": "execute_result"
    }
   ],
   "source": [
    "result = re.findall(r'\\b[89]\\d{9}\\b', 'When I 8324567891 pulled up, 834127278222222 jumped : out 3256756789 with 9101230089 the _ pump-pump 831547 32 shots and ducked out')\n",
    "result"
   ]
  }
 ],
 "metadata": {
  "kernelspec": {
   "display_name": "Python 3 (ipykernel)",
   "language": "python",
   "name": "python3"
  },
  "language_info": {
   "codemirror_mode": {
    "name": "ipython",
    "version": 3
   },
   "file_extension": ".py",
   "mimetype": "text/x-python",
   "name": "python",
   "nbconvert_exporter": "python",
   "pygments_lexer": "ipython3",
   "version": "3.9.7"
  }
 },
 "nbformat": 4,
 "nbformat_minor": 5
}

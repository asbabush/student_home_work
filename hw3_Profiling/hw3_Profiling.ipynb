{
 "cells": [
  {
   "cell_type": "markdown",
   "id": "55c6fc28",
   "metadata": {},
   "source": [
    "## 1. Чтение/запись в словарь. При попытке чтения несуществующего ключа возвращается None"
   ]
  },
  {
   "cell_type": "markdown",
   "id": "56c43a0c",
   "metadata": {},
   "source": [
    "запись в словарь вар. 1"
   ]
  },
  {
   "cell_type": "code",
   "execution_count": 1,
   "id": "3430dff7",
   "metadata": {},
   "outputs": [
    {
     "name": "stdout",
     "output_type": "stream",
     "text": [
      "490 ns ± 9.97 ns per loop (mean ± std. dev. of 7 runs, 1,000,000 loops each)\n"
     ]
    }
   ],
   "source": [
    "%timeit [dict([(1 , 1), (2, 2), (3, 3), (4, 4), (5, 5), (6, 6), (7, 7), (8, 8), (9, 9), (10, 10)])]"
   ]
  },
  {
   "cell_type": "markdown",
   "id": "38106b21",
   "metadata": {},
   "source": [
    "запись в словарь вар. 2"
   ]
  },
  {
   "cell_type": "code",
   "execution_count": 2,
   "id": "f24ca537",
   "metadata": {},
   "outputs": [
    {
     "name": "stdout",
     "output_type": "stream",
     "text": [
      "722 ns ± 5.1 ns per loop (mean ± std. dev. of 7 runs, 1,000,000 loops each)\n"
     ]
    }
   ],
   "source": [
    "%timeit {a : a for a in range(1, 11)}"
   ]
  },
  {
   "cell_type": "markdown",
   "id": "d9866249",
   "metadata": {},
   "source": [
    "## 2. К каждому элементу списка применить какуе-либо преобразование (например, для числового списка - возвести в кавдрат, для строкового - привести к верхнему регистру, отфильтровать определенные символы, и т.д.).\n"
   ]
  },
  {
   "cell_type": "code",
   "execution_count": 12,
   "id": "832dba4c",
   "metadata": {},
   "outputs": [],
   "source": [
    "import cProfile\n",
    "import time"
   ]
  },
  {
   "cell_type": "code",
   "execution_count": 13,
   "id": "b5fbef0c",
   "metadata": {},
   "outputs": [],
   "source": [
    "test_list_v1 = [i for i in range(1, 11)]\n",
    "test_list_v2 = [i for i in range(1, 11)]"
   ]
  },
  {
   "cell_type": "markdown",
   "id": "59259727",
   "metadata": {},
   "source": [
    "возведение в квадрат вар. 1"
   ]
  },
  {
   "cell_type": "code",
   "execution_count": 14,
   "id": "dfeeeeb8",
   "metadata": {},
   "outputs": [
    {
     "name": "stdout",
     "output_type": "stream",
     "text": [
      "         15 function calls in 0.157 seconds\n",
      "\n",
      "   Ordered by: internal time\n",
      "\n",
      "   ncalls  tottime  percall  cumtime  percall filename:lineno(function)\n",
      "       10    0.157    0.016    0.157    0.016 {built-in method time.sleep}\n",
      "        1    0.000    0.000    0.157    0.157 1967624534.py:1(sqrt_list_v1)\n",
      "        1    0.000    0.000    0.157    0.157 {built-in method builtins.exec}\n",
      "        1    0.000    0.000    0.157    0.157 <string>:1(<module>)\n",
      "        1    0.000    0.000    0.000    0.000 {method 'disable' of '_lsprof.Profiler' objects}\n",
      "        1    0.000    0.000    0.000    0.000 {built-in method builtins.len}\n",
      "\n",
      "\n"
     ]
    }
   ],
   "source": [
    "def sqrt_list_v1():\n",
    "    for i in range(0, len(test_list_v1)):\n",
    "        time.sleep(0.01)\n",
    "        test_list_v1[i] = test_list_v1[i]**2\n",
    "    return test_list_v1\n",
    "\n",
    "cProfile.run('sqrt_list_v1()', sort=\"tottime\")"
   ]
  },
  {
   "cell_type": "markdown",
   "id": "f742c95b",
   "metadata": {},
   "source": [
    "возведение в квадрат вар. 2"
   ]
  },
  {
   "cell_type": "code",
   "execution_count": 15,
   "id": "8f72ef24",
   "metadata": {},
   "outputs": [
    {
     "name": "stdout",
     "output_type": "stream",
     "text": [
      "         15 function calls in 0.010 seconds\n",
      "\n",
      "   Ordered by: internal time\n",
      "\n",
      "   ncalls  tottime  percall  cumtime  percall filename:lineno(function)\n",
      "        1    0.010    0.010    0.010    0.010 {built-in method time.sleep}\n",
      "        1    0.000    0.000    0.010    0.010 {built-in method builtins.exec}\n",
      "        1    0.000    0.000    0.010    0.010 2960840475.py:1(sqrt_list_v2)\n",
      "       10    0.000    0.000    0.000    0.000 2960840475.py:3(<lambda>)\n",
      "        1    0.000    0.000    0.010    0.010 <string>:1(<module>)\n",
      "        1    0.000    0.000    0.000    0.000 {method 'disable' of '_lsprof.Profiler' objects}\n",
      "\n",
      "\n"
     ]
    }
   ],
   "source": [
    "def sqrt_list_v2():\n",
    "    time.sleep(0.01)\n",
    "    return list(map(lambda x: x**2, test_list_v2))\n",
    "\n",
    "cProfile.run('sqrt_list_v2()', sort=\"tottime\")"
   ]
  },
  {
   "cell_type": "markdown",
   "id": "f1e5f70c",
   "metadata": {},
   "source": [
    "## 3. Отсортировать список."
   ]
  },
  {
   "cell_type": "code",
   "execution_count": 22,
   "id": "057b3259",
   "metadata": {},
   "outputs": [
    {
     "name": "stdout",
     "output_type": "stream",
     "text": [
      "The memory_profiler extension is already loaded. To reload it, use:\n",
      "  %reload_ext memory_profiler\n"
     ]
    }
   ],
   "source": [
    "%load_ext memory_profiler"
   ]
  },
  {
   "cell_type": "markdown",
   "id": "19c8915c",
   "metadata": {},
   "source": [
    "сортировка вар. 1"
   ]
  },
  {
   "cell_type": "code",
   "execution_count": 44,
   "id": "ba0fbcbf",
   "metadata": {},
   "outputs": [
    {
     "name": "stdout",
     "output_type": "stream",
     "text": [
      "Overwriting sort_list_v1.py\n"
     ]
    }
   ],
   "source": [
    "%%writefile sort_list_v1.py\n",
    "from memory_profiler import profile\n",
    "\n",
    "sort_list_v1 = [100, 81, 3, 13, 211, 348, 7, 12, 43, 150, 200]\n",
    "\n",
    "@profile\n",
    "def sort_listv1():\n",
    "    sort_list_v1.sort()\n",
    "    return sort_list_v1\n",
    "\n",
    "sort_listv1()"
   ]
  },
  {
   "cell_type": "code",
   "execution_count": 40,
   "id": "67f822f3",
   "metadata": {
    "scrolled": true
   },
   "outputs": [
    {
     "name": "stdout",
     "output_type": "stream",
     "text": [
      "Filename: F:\\Python\\epam\\PycharmProjects\\anton_babushkin_python_hw\\hw3_Profiling\\sort_list_v1.py\n",
      "\n",
      "Line #    Mem usage    Increment  Occurrences   Line Contents\n",
      "=============================================================\n",
      "     5     42.5 MiB     42.5 MiB           1   @profile\n",
      "     6                                         def sort_listv1():\n",
      "     7     42.5 MiB      0.0 MiB           1       sort_list_v1.sort()\n",
      "     8     42.5 MiB      0.0 MiB           1       return sort_list_v1\n",
      "\n",
      "\n"
     ]
    }
   ],
   "source": [
    "!python sort_list_v1.py"
   ]
  },
  {
   "cell_type": "markdown",
   "id": "a931622c",
   "metadata": {},
   "source": [
    "Сортировка вар.2"
   ]
  },
  {
   "cell_type": "code",
   "execution_count": 37,
   "id": "cbfe67ad",
   "metadata": {},
   "outputs": [
    {
     "name": "stdout",
     "output_type": "stream",
     "text": [
      "Overwriting sort_list_v2.py\n"
     ]
    }
   ],
   "source": [
    "%%writefile sort_list_v2.py\n",
    "from memory_profiler import profile\n",
    "\n",
    "\n",
    "sort_list_v2 = [100, 81, 3, 13, 211, 348, 7, 12, 43, 150, 200]\n",
    "sorted_list = []\n",
    "\n",
    "@profile\n",
    "def sort_listv2():\n",
    "    for i in range(0, len(sort_list_v2)):\n",
    "        sorted_list.append(min(sort_list_v2))\n",
    "        sort_list_v2.remove(min(sort_list_v2))\n",
    "    return sorted_list\n",
    "\n",
    "sort_listv2()"
   ]
  },
  {
   "cell_type": "code",
   "execution_count": 38,
   "id": "d608ea50",
   "metadata": {},
   "outputs": [
    {
     "name": "stdout",
     "output_type": "stream",
     "text": [
      "Filename: F:\\Python\\epam\\PycharmProjects\\anton_babushkin_python_hw\\hw3_Profiling\\sort_list_v2.py\n",
      "\n",
      "Line #    Mem usage    Increment  Occurrences   Line Contents\n",
      "=============================================================\n",
      "     7     42.4 MiB     42.4 MiB           1   @profile\n",
      "     8                                         def sort_listv2():\n",
      "     9     42.4 MiB      0.0 MiB          12       for i in range(0, len(sort_list_v2)):\n",
      "    10     42.4 MiB      0.0 MiB          11           sorted_list.append(min(sort_list_v2))\n",
      "    11     42.4 MiB      0.0 MiB          11           sort_list_v2.remove(min(sort_list_v2))\n",
      "    12     42.4 MiB      0.0 MiB           1       return sorted_list\n",
      "\n",
      "\n"
     ]
    }
   ],
   "source": [
    "!python sort_list_v2.py"
   ]
  },
  {
   "cell_type": "markdown",
   "id": "75be66a4",
   "metadata": {},
   "source": [
    "## 4. Распаковать вложенный список."
   ]
  },
  {
   "cell_type": "code",
   "execution_count": 53,
   "id": "cc240911",
   "metadata": {},
   "outputs": [],
   "source": [
    "unpack_list_v1 = [[i for i in range(3)] for i in range(5)]\n",
    "unpack_list_v2 = [[i for i in range(3)] for i in range(5)]"
   ]
  },
  {
   "cell_type": "markdown",
   "id": "47c2702b",
   "metadata": {},
   "source": [
    "распаковка вар. 1"
   ]
  },
  {
   "cell_type": "code",
   "execution_count": 54,
   "id": "9b8cffcb",
   "metadata": {},
   "outputs": [
    {
     "data": {
      "text/plain": [
       "[0, 1, 2, 0, 1, 2, 0, 1, 2, 0, 1, 2, 0, 1, 2]"
      ]
     },
     "execution_count": 54,
     "metadata": {},
     "output_type": "execute_result"
    }
   ],
   "source": [
    "unpacked_list_v1 = []\n",
    "\n",
    "def unpacked_listv1():\n",
    "    for i in range(0, len(unpack_list_v1)):\n",
    "        for j in range(0, len(unpack_list_v1[i])):\n",
    "            unpacked_list_v1.append(unpack_list_v1[i][j])\n",
    "    return unpacked_list_v1  \n",
    "\n",
    "unpacked_listv1()"
   ]
  },
  {
   "cell_type": "markdown",
   "id": "f3308981",
   "metadata": {},
   "source": [
    "распаковка вар. 2"
   ]
  },
  {
   "cell_type": "code",
   "execution_count": 57,
   "id": "678f1992",
   "metadata": {},
   "outputs": [
    {
     "data": {
      "text/plain": [
       "[0, 1, 2, 0, 1, 2, 0, 1, 2, 0, 1, 2, 0, 1, 2]"
      ]
     },
     "execution_count": 57,
     "metadata": {},
     "output_type": "execute_result"
    }
   ],
   "source": [
    "def unpacked_listv2():\n",
    "    unpacked_list_v2 = [j for i in unpack_list_v2 for j in i]\n",
    "    return unpacked_list_v2\n",
    "\n",
    "unpacked_listv1()"
   ]
  },
  {
   "cell_type": "markdown",
   "id": "3c62b0cd",
   "metadata": {},
   "source": [
    "Сравниваем время работы"
   ]
  },
  {
   "cell_type": "code",
   "execution_count": 55,
   "id": "77506ffa",
   "metadata": {},
   "outputs": [
    {
     "name": "stdout",
     "output_type": "stream",
     "text": [
      "5.2 µs ± 1.01 µs per loop (mean ± std. dev. of 7 runs, 100,000 loops each)\n"
     ]
    }
   ],
   "source": [
    "%timeit unpacked_listv1()"
   ]
  },
  {
   "cell_type": "code",
   "execution_count": 58,
   "id": "851a26f7",
   "metadata": {},
   "outputs": [
    {
     "name": "stdout",
     "output_type": "stream",
     "text": [
      "1.21 µs ± 85.6 ns per loop (mean ± std. dev. of 7 runs, 1,000,000 loops each)\n"
     ]
    }
   ],
   "source": [
    "%timeit unpacked_listv2()"
   ]
  }
 ],
 "metadata": {
  "kernelspec": {
   "display_name": "Python 3 (ipykernel)",
   "language": "python",
   "name": "python3"
  },
  "language_info": {
   "codemirror_mode": {
    "name": "ipython",
    "version": 3
   },
   "file_extension": ".py",
   "mimetype": "text/x-python",
   "name": "python",
   "nbconvert_exporter": "python",
   "pygments_lexer": "ipython3",
   "version": "3.9.7"
  }
 },
 "nbformat": 4,
 "nbformat_minor": 5
}

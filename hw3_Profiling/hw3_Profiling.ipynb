{
 "cells": [
  {
   "cell_type": "markdown",
   "id": "55c6fc28",
   "metadata": {},
   "source": [
    "## 1. Чтение/запись в словарь. При попытке чтения несуществующего ключа возвращается None"
   ]
  },
  {
   "cell_type": "markdown",
   "id": "56c43a0c",
   "metadata": {},
   "source": [
    "запись в словарь вар. 1"
   ]
  },
  {
   "cell_type": "code",
   "execution_count": 1,
   "id": "3430dff7",
   "metadata": {},
   "outputs": [
    {
     "name": "stdout",
     "output_type": "stream",
     "text": [
      "490 ns ± 9.97 ns per loop (mean ± std. dev. of 7 runs, 1,000,000 loops each)\n"
     ]
    }
   ],
   "source": [
    "%timeit [dict([(1 , 1), (2, 2), (3, 3), (4, 4), (5, 5), (6, 6), (7, 7), (8, 8), (9, 9), (10, 10)])]"
   ]
  },
  {
   "cell_type": "markdown",
   "id": "38106b21",
   "metadata": {},
   "source": [
    "запись в словарь вар. 2"
   ]
  },
  {
   "cell_type": "code",
   "execution_count": 2,
   "id": "f24ca537",
   "metadata": {},
   "outputs": [
    {
     "name": "stdout",
     "output_type": "stream",
     "text": [
      "722 ns ± 5.1 ns per loop (mean ± std. dev. of 7 runs, 1,000,000 loops each)\n"
     ]
    }
   ],
   "source": [
    "%timeit {a : a for a in range(1, 11)}"
   ]
  },
  {
   "cell_type": "markdown",
   "id": "b7fb1804",
   "metadata": {},
   "source": [
    "__Выводы :__ Второй вариант работает медленнее в связи с тем, что тратиться время на вычисления."
   ]
  },
  {
   "cell_type": "markdown",
   "id": "d9866249",
   "metadata": {},
   "source": [
    "## 2. К каждому элементу списка применить какуе-либо преобразование (например, для числового списка - возвести в кавдрат, для строкового - привести к верхнему регистру, отфильтровать определенные символы, и т.д.).\n"
   ]
  },
  {
   "cell_type": "code",
   "execution_count": 3,
   "id": "832dba4c",
   "metadata": {},
   "outputs": [],
   "source": [
    "import cProfile"
   ]
  },
  {
   "cell_type": "code",
   "execution_count": 26,
   "id": "b5fbef0c",
   "metadata": {},
   "outputs": [],
   "source": [
    "test_list_v1 = [i for i in range(1, 10000001) if i%2 == 0]\n",
    "test_list_v2 = [i for i in range(1, 10000001) if i%2 == 0]"
   ]
  },
  {
   "cell_type": "markdown",
   "id": "59259727",
   "metadata": {},
   "source": [
    "возведение в квадрат вар. 1"
   ]
  },
  {
   "cell_type": "code",
   "execution_count": 27,
   "id": "dfeeeeb8",
   "metadata": {},
   "outputs": [
    {
     "name": "stdout",
     "output_type": "stream",
     "text": [
      "         5 function calls in 1.267 seconds\n",
      "\n",
      "   Ordered by: internal time\n",
      "\n",
      "   ncalls  tottime  percall  cumtime  percall filename:lineno(function)\n",
      "        1    1.267    1.267    1.267    1.267 2207950730.py:1(sqrt_list_v1)\n",
      "        1    0.000    0.000    1.267    1.267 {built-in method builtins.exec}\n",
      "        1    0.000    0.000    1.267    1.267 <string>:1(<module>)\n",
      "        1    0.000    0.000    0.000    0.000 {method 'disable' of '_lsprof.Profiler' objects}\n",
      "        1    0.000    0.000    0.000    0.000 {built-in method builtins.len}\n",
      "\n",
      "\n"
     ]
    }
   ],
   "source": [
    "def sqrt_list_v1():\n",
    "    for i in range(0, len(test_list_v1)):\n",
    "        test_list_v1[i] = test_list_v1[i]**2\n",
    "    return test_list_v1\n",
    "\n",
    "cProfile.run('sqrt_list_v1()', sort=\"tottime\")"
   ]
  },
  {
   "cell_type": "markdown",
   "id": "f742c95b",
   "metadata": {},
   "source": [
    "возведение в квадрат вар. 2"
   ]
  },
  {
   "cell_type": "code",
   "execution_count": 28,
   "id": "8f72ef24",
   "metadata": {},
   "outputs": [
    {
     "name": "stdout",
     "output_type": "stream",
     "text": [
      "         5000004 function calls in 2.220 seconds\n",
      "\n",
      "   Ordered by: internal time\n",
      "\n",
      "   ncalls  tottime  percall  cumtime  percall filename:lineno(function)\n",
      "  5000000    1.349    0.000    1.349    0.000 4242441623.py:2(<lambda>)\n",
      "        1    0.801    0.801    2.151    2.151 4242441623.py:1(sqrt_list_v2)\n",
      "        1    0.069    0.069    2.220    2.220 <string>:1(<module>)\n",
      "        1    0.000    0.000    2.220    2.220 {built-in method builtins.exec}\n",
      "        1    0.000    0.000    0.000    0.000 {method 'disable' of '_lsprof.Profiler' objects}\n",
      "\n",
      "\n"
     ]
    }
   ],
   "source": [
    "def sqrt_list_v2():\n",
    "    return list(map(lambda x: x**2, test_list_v2))\n",
    "\n",
    "cProfile.run('sqrt_list_v2()', sort=\"tottime\")"
   ]
  },
  {
   "cell_type": "markdown",
   "id": "129729f9",
   "metadata": {},
   "source": [
    "__Выводы__ Второй вариант работает медленнее, на сколько я вижу основное время занимает вычисление lambda. В первом варианте мы как бы делаем расчет на лету."
   ]
  },
  {
   "cell_type": "markdown",
   "id": "f1e5f70c",
   "metadata": {},
   "source": [
    "## 3. Отсортировать список."
   ]
  },
  {
   "cell_type": "code",
   "execution_count": 22,
   "id": "057b3259",
   "metadata": {},
   "outputs": [
    {
     "name": "stdout",
     "output_type": "stream",
     "text": [
      "The memory_profiler extension is already loaded. To reload it, use:\n",
      "  %reload_ext memory_profiler\n"
     ]
    }
   ],
   "source": [
    "%load_ext memory_profiler"
   ]
  },
  {
   "cell_type": "markdown",
   "id": "19c8915c",
   "metadata": {},
   "source": [
    "сортировка вар. 1"
   ]
  },
  {
   "cell_type": "code",
   "execution_count": 97,
   "id": "ba0fbcbf",
   "metadata": {},
   "outputs": [
    {
     "name": "stdout",
     "output_type": "stream",
     "text": [
      "Overwriting sort_list_v1.py\n"
     ]
    }
   ],
   "source": [
    "%%writefile sort_list_v1.py\n",
    "from memory_profiler import profile\n",
    "\n",
    "sort_list_v1 = [100, 81, 3, 13, 211, 348, 7, 12, 43, 150, 200]\n",
    "\n",
    "@profile\n",
    "def sort_listv1():\n",
    "    sort_list_v1.sort()\n",
    "    return sort_list_v1\n",
    "\n",
    "sort_listv1()"
   ]
  },
  {
   "cell_type": "code",
   "execution_count": 98,
   "id": "67f822f3",
   "metadata": {
    "scrolled": true
   },
   "outputs": [
    {
     "name": "stdout",
     "output_type": "stream",
     "text": [
      "Filename: F:\\Python\\epam\\PycharmProjects\\anton_babushkin_python_hw\\hw3_Profiling\\sort_list_v1.py\n",
      "\n",
      "Line #    Mem usage    Increment  Occurrences   Line Contents\n",
      "=============================================================\n",
      "     5     42.4 MiB     42.4 MiB           1   @profile\n",
      "     6                                         def sort_listv1():\n",
      "     7     42.4 MiB      0.0 MiB           1       sort_list_v1.sort()\n",
      "     8     42.4 MiB      0.0 MiB           1       return sort_list_v1\n",
      "\n",
      "\n"
     ]
    }
   ],
   "source": [
    "!python sort_list_v1.py"
   ]
  },
  {
   "cell_type": "markdown",
   "id": "1a13fc54",
   "metadata": {},
   "source": [
    "Тестирование функции:"
   ]
  },
  {
   "cell_type": "code",
   "execution_count": 94,
   "id": "c923a03e",
   "metadata": {},
   "outputs": [],
   "source": [
    "def test_sort_listv1():\n",
    "    assert sort_listv1() == [3, 7, 12, 13, 43, 81, 100, 150, 200, 211, 348]    \n",
    "test_sort_listv1()"
   ]
  },
  {
   "cell_type": "markdown",
   "id": "a931622c",
   "metadata": {},
   "source": [
    "Сортировка вар.2"
   ]
  },
  {
   "cell_type": "code",
   "execution_count": 95,
   "id": "cbfe67ad",
   "metadata": {},
   "outputs": [
    {
     "name": "stdout",
     "output_type": "stream",
     "text": [
      "Overwriting sort_list_v2.py\n"
     ]
    }
   ],
   "source": [
    "%%writefile sort_list_v2.py\n",
    "from memory_profiler import profile\n",
    "\n",
    "\n",
    "sort_list_v2 = [100, 81, 3, 13, 211, 348, 7, 12, 43, 150, 200]\n",
    "sorted_list = []\n",
    "\n",
    "@profile\n",
    "def sort_listv2():\n",
    "    for i in range(0, len(sort_list_v2)):\n",
    "        sorted_list.append(min(sort_list_v2))\n",
    "        sort_list_v2.remove(min(sort_list_v2))\n",
    "    return sorted_list\n",
    "\n",
    "sort_listv2()"
   ]
  },
  {
   "cell_type": "code",
   "execution_count": 96,
   "id": "d608ea50",
   "metadata": {},
   "outputs": [
    {
     "name": "stdout",
     "output_type": "stream",
     "text": [
      "Filename: F:\\Python\\epam\\PycharmProjects\\anton_babushkin_python_hw\\hw3_Profiling\\sort_list_v2.py\n",
      "\n",
      "Line #    Mem usage    Increment  Occurrences   Line Contents\n",
      "=============================================================\n",
      "     7     42.5 MiB     42.5 MiB           1   @profile\n",
      "     8                                         def sort_listv2():\n",
      "     9     42.5 MiB      0.0 MiB          12       for i in range(0, len(sort_list_v2)):\n",
      "    10     42.5 MiB      0.0 MiB          11           sorted_list.append(min(sort_list_v2))\n",
      "    11     42.5 MiB      0.0 MiB          11           sort_list_v2.remove(min(sort_list_v2))\n",
      "    12     42.5 MiB      0.0 MiB           1       return sorted_list\n",
      "\n",
      "\n"
     ]
    }
   ],
   "source": [
    "!python sort_list_v2.py"
   ]
  },
  {
   "cell_type": "markdown",
   "id": "2539a2dc",
   "metadata": {},
   "source": [
    "Тестирование функции:"
   ]
  },
  {
   "cell_type": "code",
   "execution_count": 93,
   "id": "e7c20bf0",
   "metadata": {},
   "outputs": [],
   "source": [
    "def test_sort_listv2():\n",
    "    assert sort_listv2() == [3, 7, 12, 13, 43, 81, 100, 150, 200, 211, 348]\n",
    "test_sort_listv2()"
   ]
  },
  {
   "cell_type": "markdown",
   "id": "f5e09d8d",
   "metadata": {},
   "source": [
    "__Выводы__ Два разных кода используют примерно одинаковое количество памяти. Я думаю, что метод .sort() и второй вариант сартировки выполнят схожие действия и имеют похожий алгоритм."
   ]
  },
  {
   "cell_type": "markdown",
   "id": "75be66a4",
   "metadata": {},
   "source": [
    "## 4. Распаковать вложенный список."
   ]
  },
  {
   "cell_type": "code",
   "execution_count": 53,
   "id": "cc240911",
   "metadata": {},
   "outputs": [],
   "source": [
    "unpack_list_v1 = [[i for i in range(3)] for i in range(5)]\n",
    "unpack_list_v2 = [[i for i in range(3)] for i in range(5)]"
   ]
  },
  {
   "cell_type": "markdown",
   "id": "47c2702b",
   "metadata": {},
   "source": [
    "распаковка вар. 1"
   ]
  },
  {
   "cell_type": "code",
   "execution_count": 54,
   "id": "9b8cffcb",
   "metadata": {},
   "outputs": [
    {
     "data": {
      "text/plain": [
       "[0, 1, 2, 0, 1, 2, 0, 1, 2, 0, 1, 2, 0, 1, 2]"
      ]
     },
     "execution_count": 54,
     "metadata": {},
     "output_type": "execute_result"
    }
   ],
   "source": [
    "unpacked_list_v1 = []\n",
    "\n",
    "def unpacked_listv1():\n",
    "    for i in range(0, len(unpack_list_v1)):\n",
    "        for j in range(0, len(unpack_list_v1[i])):\n",
    "            unpacked_list_v1.append(unpack_list_v1[i][j])\n",
    "    return unpacked_list_v1  \n",
    "\n",
    "unpacked_listv1()"
   ]
  },
  {
   "cell_type": "markdown",
   "id": "f3308981",
   "metadata": {},
   "source": [
    "распаковка вар. 2"
   ]
  },
  {
   "cell_type": "code",
   "execution_count": 57,
   "id": "678f1992",
   "metadata": {},
   "outputs": [
    {
     "data": {
      "text/plain": [
       "[0, 1, 2, 0, 1, 2, 0, 1, 2, 0, 1, 2, 0, 1, 2]"
      ]
     },
     "execution_count": 57,
     "metadata": {},
     "output_type": "execute_result"
    }
   ],
   "source": [
    "def unpacked_listv2():\n",
    "    unpacked_list_v2 = [j for i in unpack_list_v2 for j in i]\n",
    "    return unpacked_list_v2\n",
    "\n",
    "unpacked_listv1()"
   ]
  },
  {
   "cell_type": "markdown",
   "id": "3c62b0cd",
   "metadata": {},
   "source": [
    "Сравниваем время работы"
   ]
  },
  {
   "cell_type": "code",
   "execution_count": 55,
   "id": "77506ffa",
   "metadata": {},
   "outputs": [
    {
     "name": "stdout",
     "output_type": "stream",
     "text": [
      "5.2 µs ± 1.01 µs per loop (mean ± std. dev. of 7 runs, 100,000 loops each)\n"
     ]
    }
   ],
   "source": [
    "%timeit unpacked_listv1()"
   ]
  },
  {
   "cell_type": "code",
   "execution_count": 58,
   "id": "851a26f7",
   "metadata": {},
   "outputs": [
    {
     "name": "stdout",
     "output_type": "stream",
     "text": [
      "1.21 µs ± 85.6 ns per loop (mean ± std. dev. of 7 runs, 1,000,000 loops each)\n"
     ]
    }
   ],
   "source": [
    "%timeit unpacked_listv2()"
   ]
  },
  {
   "cell_type": "markdown",
   "id": "3caa23d6",
   "metadata": {},
   "source": [
    "__Выводы__  Вариант с list comprehension работает быстрее так как, в данном варианте нет дополнительного метода .append() который так же занимает время для выполнения."
   ]
  }
 ],
 "metadata": {
  "kernelspec": {
   "display_name": "Python 3 (ipykernel)",
   "language": "python",
   "name": "python3"
  },
  "language_info": {
   "codemirror_mode": {
    "name": "ipython",
    "version": 3
   },
   "file_extension": ".py",
   "mimetype": "text/x-python",
   "name": "python",
   "nbconvert_exporter": "python",
   "pygments_lexer": "ipython3",
   "version": "3.9.7"
  }
 },
 "nbformat": 4,
 "nbformat_minor": 5
}

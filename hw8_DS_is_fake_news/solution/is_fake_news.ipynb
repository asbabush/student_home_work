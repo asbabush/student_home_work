{
 "cells": [
  {
   "cell_type": "code",
   "execution_count": 1,
   "id": "fca7a1b4",
   "metadata": {},
   "outputs": [],
   "source": [
    "import pandas as pd\n",
    "from sklearn.feature_extraction.text import CountVectorizer\n",
    "from sklearn.linear_model import LogisticRegression\n",
    "from sklearn.model_selection import train_test_split"
   ]
  },
  {
   "cell_type": "markdown",
   "id": "d662c87b",
   "metadata": {},
   "source": [
    "__Напишем функцию, которая поможет улучшить текст для обучения модели__"
   ]
  },
  {
   "cell_type": "code",
   "execution_count": 2,
   "id": "1e8607ef",
   "metadata": {},
   "outputs": [],
   "source": [
    "def dataset_improvement(dataset):\n",
    "    \n",
    "    \"\"\"This feature improves the dataset.\n",
    "    Makes all letters in words lowercase and removes non-alphabetic characters.\n",
    "    Attention: the function uses regular expressions.\"\"\"\n",
    "    \n",
    "    dataset['title'] = dataset['title'].str.lower().str.replace(r'\\W',r' ')\n",
    "    return dataset"
   ]
  },
  {
   "cell_type": "markdown",
   "id": "3a3171df",
   "metadata": {},
   "source": [
    "## 1 этап. Подбор оптимальной модели и параметров векторизации."
   ]
  },
  {
   "cell_type": "markdown",
   "id": "fb8e2d3b",
   "metadata": {},
   "source": [
    "__Прочитаем данные из файла обучения \"train.tsv\" для подбора наилучшей модели обучения, ее параметров и тестирования__ "
   ]
  },
  {
   "cell_type": "code",
   "execution_count": 3,
   "id": "c5bbb937",
   "metadata": {
    "scrolled": true
   },
   "outputs": [
    {
     "data": {
      "text/html": [
       "<div>\n",
       "<style scoped>\n",
       "    .dataframe tbody tr th:only-of-type {\n",
       "        vertical-align: middle;\n",
       "    }\n",
       "\n",
       "    .dataframe tbody tr th {\n",
       "        vertical-align: top;\n",
       "    }\n",
       "\n",
       "    .dataframe thead th {\n",
       "        text-align: right;\n",
       "    }\n",
       "</style>\n",
       "<table border=\"1\" class=\"dataframe\">\n",
       "  <thead>\n",
       "    <tr style=\"text-align: right;\">\n",
       "      <th></th>\n",
       "      <th>title</th>\n",
       "      <th>is_fake</th>\n",
       "    </tr>\n",
       "  </thead>\n",
       "  <tbody>\n",
       "    <tr>\n",
       "      <th>0</th>\n",
       "      <td>Москвичу Владимиру Клутину пришёл счёт за вмеш...</td>\n",
       "      <td>1</td>\n",
       "    </tr>\n",
       "    <tr>\n",
       "      <th>1</th>\n",
       "      <td>Агент Кокорина назвал езду по встречке житейск...</td>\n",
       "      <td>0</td>\n",
       "    </tr>\n",
       "    <tr>\n",
       "      <th>2</th>\n",
       "      <td>Госдума рассмотрит возможность введения секрет...</td>\n",
       "      <td>1</td>\n",
       "    </tr>\n",
       "    <tr>\n",
       "      <th>3</th>\n",
       "      <td>ФАС заблокировала поставку скоростных трамваев...</td>\n",
       "      <td>0</td>\n",
       "    </tr>\n",
       "    <tr>\n",
       "      <th>4</th>\n",
       "      <td>Против Навального завели дело о недоносительст...</td>\n",
       "      <td>1</td>\n",
       "    </tr>\n",
       "    <tr>\n",
       "      <th>...</th>\n",
       "      <td>...</td>\n",
       "      <td>...</td>\n",
       "    </tr>\n",
       "    <tr>\n",
       "      <th>5753</th>\n",
       "      <td>Эдди Чемберс получил сотрясение мозга в бою с ...</td>\n",
       "      <td>0</td>\n",
       "    </tr>\n",
       "    <tr>\n",
       "      <th>5754</th>\n",
       "      <td>Правительство застроит Россию нефтепродуктопро...</td>\n",
       "      <td>0</td>\n",
       "    </tr>\n",
       "    <tr>\n",
       "      <th>5755</th>\n",
       "      <td>«Мне стыдно перед дедом»: новый канцлер ФРГ об...</td>\n",
       "      <td>1</td>\n",
       "    </tr>\n",
       "    <tr>\n",
       "      <th>5756</th>\n",
       "      <td>Туркмения в декабре начнет поставки газа в Китай</td>\n",
       "      <td>0</td>\n",
       "    </tr>\n",
       "    <tr>\n",
       "      <th>5757</th>\n",
       "      <td>Бывший тренер Локомотива возглавил нальчикский...</td>\n",
       "      <td>0</td>\n",
       "    </tr>\n",
       "  </tbody>\n",
       "</table>\n",
       "<p>5758 rows × 2 columns</p>\n",
       "</div>"
      ],
      "text/plain": [
       "                                                  title  is_fake\n",
       "0     Москвичу Владимиру Клутину пришёл счёт за вмеш...        1\n",
       "1     Агент Кокорина назвал езду по встречке житейск...        0\n",
       "2     Госдума рассмотрит возможность введения секрет...        1\n",
       "3     ФАС заблокировала поставку скоростных трамваев...        0\n",
       "4     Против Навального завели дело о недоносительст...        1\n",
       "...                                                 ...      ...\n",
       "5753  Эдди Чемберс получил сотрясение мозга в бою с ...        0\n",
       "5754  Правительство застроит Россию нефтепродуктопро...        0\n",
       "5755  «Мне стыдно перед дедом»: новый канцлер ФРГ об...        1\n",
       "5756   Туркмения в декабре начнет поставки газа в Китай        0\n",
       "5757  Бывший тренер Локомотива возглавил нальчикский...        0\n",
       "\n",
       "[5758 rows x 2 columns]"
      ]
     },
     "execution_count": 3,
     "metadata": {},
     "output_type": "execute_result"
    }
   ],
   "source": [
    "train_data = pd.read_csv('dataset/train.tsv', sep='\\t')\n",
    "train_data"
   ]
  },
  {
   "cell_type": "markdown",
   "id": "18529b2a",
   "metadata": {},
   "source": [
    "__Применим функцию улучшения текста к тренировочным данным__"
   ]
  },
  {
   "cell_type": "code",
   "execution_count": 4,
   "id": "1965ab28",
   "metadata": {},
   "outputs": [
    {
     "name": "stderr",
     "output_type": "stream",
     "text": [
      "C:\\Users\\anton.babushkin\\AppData\\Local\\Temp\\ipykernel_8516\\2645509092.py:7: FutureWarning: The default value of regex will change from True to False in a future version.\n",
      "  dataset['title'] = dataset['title'].str.lower().str.replace(r'\\W',r' ')\n"
     ]
    }
   ],
   "source": [
    "train_data = dataset_improvement(train_data)"
   ]
  },
  {
   "cell_type": "markdown",
   "id": "ecd86dc5",
   "metadata": {},
   "source": [
    "__Создадим множество новостей и множество ответов о лживости новости__"
   ]
  },
  {
   "cell_type": "code",
   "execution_count": 5,
   "id": "62e37914",
   "metadata": {
    "scrolled": false
   },
   "outputs": [],
   "source": [
    "X = train_data['title']\n",
    "y = train_data['is_fake']"
   ]
  },
  {
   "cell_type": "markdown",
   "id": "fd646410",
   "metadata": {},
   "source": [
    "__Для тестирования подходящей модели и подбора оптимальных параметров разобьем тренировочные данные на данные для обучения и тестирования__"
   ]
  },
  {
   "cell_type": "code",
   "execution_count": 6,
   "id": "269ecbc8",
   "metadata": {},
   "outputs": [],
   "source": [
    "X_train, X_test, y_train, y_test = train_test_split(X, y, test_size=0.3)"
   ]
  },
  {
   "cell_type": "markdown",
   "id": "c4ac144b",
   "metadata": {},
   "source": [
    "__Для хорошей работы модели необходимо каждое слово в тексте векторизовать. Воспользуемся встроенной функцией SKlearn CountVectorizer и применим ее к нашим множествам. При тестировании модели были найдены оптимальные параметры векторизации: ngram_range=(1, 2), остальные параметры оставляем дефолтными__"
   ]
  },
  {
   "cell_type": "code",
   "execution_count": 7,
   "id": "219f5333",
   "metadata": {},
   "outputs": [],
   "source": [
    "vectorizer = CountVectorizer(ngram_range=(1, 2))\n",
    "vectorizer.fit(X_train)\n",
    "vectorizer.fit(X_test)\n",
    "X_train_vect = vectorizer.transform(X_train)\n",
    "X_test_vect = vectorizer.transform(X_test)"
   ]
  },
  {
   "cell_type": "markdown",
   "id": "920f2ce2",
   "metadata": {},
   "source": [
    "__В ходе исследования была подобрана модель LogisticRegression c дефолтными параметрами. Она показала 83%-85% совпадение с ответами тестовой выборкой__"
   ]
  },
  {
   "cell_type": "code",
   "execution_count": 8,
   "id": "2dcc1eeb",
   "metadata": {},
   "outputs": [
    {
     "data": {
      "text/plain": [
       "LogisticRegression()"
      ]
     },
     "execution_count": 8,
     "metadata": {},
     "output_type": "execute_result"
    }
   ],
   "source": [
    "log_reg = LogisticRegression()\n",
    "log_reg.fit(X_train_vect, y_train)"
   ]
  },
  {
   "cell_type": "code",
   "execution_count": 9,
   "id": "421a6d8a",
   "metadata": {
    "scrolled": true
   },
   "outputs": [
    {
     "data": {
      "text/plain": [
       "0.8385416666666666"
      ]
     },
     "execution_count": 9,
     "metadata": {},
     "output_type": "execute_result"
    }
   ],
   "source": [
    "log_reg.score(X_test_vect, y_test)"
   ]
  },
  {
   "cell_type": "markdown",
   "id": "58e5f434",
   "metadata": {},
   "source": [
    "\n",
    "## 2 этап. Обучение модели на всех тренировочных данных, решение тестовой задачи\n"
   ]
  },
  {
   "cell_type": "markdown",
   "id": "fa004061",
   "metadata": {},
   "source": [
    "__Обучим модель на всех тренировочных данных__"
   ]
  },
  {
   "cell_type": "code",
   "execution_count": 10,
   "id": "bc5d4d03",
   "metadata": {},
   "outputs": [
    {
     "data": {
      "text/plain": [
       "LogisticRegression()"
      ]
     },
     "execution_count": 10,
     "metadata": {},
     "output_type": "execute_result"
    }
   ],
   "source": [
    "vectorizer.fit(X)\n",
    "X_train_vect = vectorizer.transform(X)\n",
    "log_reg.fit(X_train_vect, y)"
   ]
  },
  {
   "cell_type": "markdown",
   "id": "910c16e0",
   "metadata": {},
   "source": [
    "__Загрузим тестовый файл, применим функцию улучшения текста, векторизуем и применим модель для получения значений поля is_fake__"
   ]
  },
  {
   "cell_type": "code",
   "execution_count": 11,
   "id": "9103acf2",
   "metadata": {
    "scrolled": true
   },
   "outputs": [
    {
     "name": "stderr",
     "output_type": "stream",
     "text": [
      "C:\\Users\\anton.babushkin\\AppData\\Local\\Temp\\ipykernel_8516\\2645509092.py:7: FutureWarning: The default value of regex will change from True to False in a future version.\n",
      "  dataset['title'] = dataset['title'].str.lower().str.replace(r'\\W',r' ')\n"
     ]
    },
    {
     "data": {
      "text/html": [
       "<div>\n",
       "<style scoped>\n",
       "    .dataframe tbody tr th:only-of-type {\n",
       "        vertical-align: middle;\n",
       "    }\n",
       "\n",
       "    .dataframe tbody tr th {\n",
       "        vertical-align: top;\n",
       "    }\n",
       "\n",
       "    .dataframe thead th {\n",
       "        text-align: right;\n",
       "    }\n",
       "</style>\n",
       "<table border=\"1\" class=\"dataframe\">\n",
       "  <thead>\n",
       "    <tr style=\"text-align: right;\">\n",
       "      <th></th>\n",
       "      <th>title</th>\n",
       "      <th>is_fake</th>\n",
       "    </tr>\n",
       "  </thead>\n",
       "  <tbody>\n",
       "    <tr>\n",
       "      <th>0</th>\n",
       "      <td>Роскомнадзор представил реестр сочетаний цвето...</td>\n",
       "      <td>1</td>\n",
       "    </tr>\n",
       "    <tr>\n",
       "      <th>1</th>\n",
       "      <td>Ночью под Минском на президентской горе Белара...</td>\n",
       "      <td>1</td>\n",
       "    </tr>\n",
       "    <tr>\n",
       "      <th>2</th>\n",
       "      <td>Бывший спичрайтер Юрия Лозы рассказал о трудно...</td>\n",
       "      <td>0</td>\n",
       "    </tr>\n",
       "    <tr>\n",
       "      <th>3</th>\n",
       "      <td>Сельская церковь, собравшая рекордно низкое ко...</td>\n",
       "      <td>0</td>\n",
       "    </tr>\n",
       "    <tr>\n",
       "      <th>4</th>\n",
       "      <td>Акции Google рухнули после объявления о переза...</td>\n",
       "      <td>0</td>\n",
       "    </tr>\n",
       "    <tr>\n",
       "      <th>...</th>\n",
       "      <td>...</td>\n",
       "      <td>...</td>\n",
       "    </tr>\n",
       "    <tr>\n",
       "      <th>995</th>\n",
       "      <td>Прокуратура заподозрила Явлинского в авторитар...</td>\n",
       "      <td>0</td>\n",
       "    </tr>\n",
       "    <tr>\n",
       "      <th>996</th>\n",
       "      <td>В День Победы стратегические ракетоносцы Ту-16...</td>\n",
       "      <td>1</td>\n",
       "    </tr>\n",
       "    <tr>\n",
       "      <th>997</th>\n",
       "      <td>СК возбудил дело против авиакомпании «Победа» ...</td>\n",
       "      <td>1</td>\n",
       "    </tr>\n",
       "    <tr>\n",
       "      <th>998</th>\n",
       "      <td>Криптомонетный двор Туркменистана выпустил юби...</td>\n",
       "      <td>0</td>\n",
       "    </tr>\n",
       "    <tr>\n",
       "      <th>999</th>\n",
       "      <td>Deutsche Bahn заплатит рекордный штраф за чтен...</td>\n",
       "      <td>0</td>\n",
       "    </tr>\n",
       "  </tbody>\n",
       "</table>\n",
       "<p>1000 rows × 2 columns</p>\n",
       "</div>"
      ],
      "text/plain": [
       "                                                 title  is_fake\n",
       "0    Роскомнадзор представил реестр сочетаний цвето...        1\n",
       "1    Ночью под Минском на президентской горе Белара...        1\n",
       "2    Бывший спичрайтер Юрия Лозы рассказал о трудно...        0\n",
       "3    Сельская церковь, собравшая рекордно низкое ко...        0\n",
       "4    Акции Google рухнули после объявления о переза...        0\n",
       "..                                                 ...      ...\n",
       "995  Прокуратура заподозрила Явлинского в авторитар...        0\n",
       "996  В День Победы стратегические ракетоносцы Ту-16...        1\n",
       "997  СК возбудил дело против авиакомпании «Победа» ...        1\n",
       "998  Криптомонетный двор Туркменистана выпустил юби...        0\n",
       "999  Deutsche Bahn заплатит рекордный штраф за чтен...        0\n",
       "\n",
       "[1000 rows x 2 columns]"
      ]
     },
     "execution_count": 11,
     "metadata": {},
     "output_type": "execute_result"
    }
   ],
   "source": [
    "test_data = pd.read_csv('dataset/test.tsv', sep='\\t')\n",
    "test_data_improvement = dataset_improvement(test_data.copy())\n",
    "X = test_data_improvement['title']\n",
    "test_data['is_fake'] = log_reg.predict(vectorizer.transform(X))\n",
    "test_data"
   ]
  },
  {
   "cell_type": "markdown",
   "id": "e7bb20e5",
   "metadata": {},
   "source": [
    "__Сохраним данные в файл__"
   ]
  },
  {
   "cell_type": "code",
   "execution_count": 12,
   "id": "dbd71862",
   "metadata": {},
   "outputs": [],
   "source": [
    "test_data.to_csv('prediction.tsv', sep='\\t', index=False)"
   ]
  },
  {
   "cell_type": "code",
   "execution_count": null,
   "id": "18d4b188",
   "metadata": {},
   "outputs": [],
   "source": []
  }
 ],
 "metadata": {
  "kernelspec": {
   "display_name": "Python 3 (ipykernel)",
   "language": "python",
   "name": "python3"
  },
  "language_info": {
   "codemirror_mode": {
    "name": "ipython",
    "version": 3
   },
   "file_extension": ".py",
   "mimetype": "text/x-python",
   "name": "python",
   "nbconvert_exporter": "python",
   "pygments_lexer": "ipython3",
   "version": "3.9.7"
  }
 },
 "nbformat": 4,
 "nbformat_minor": 5
}

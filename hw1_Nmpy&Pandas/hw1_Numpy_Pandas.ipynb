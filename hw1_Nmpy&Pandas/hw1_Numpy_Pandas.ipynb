{
 "cells": [
  {
   "cell_type": "code",
   "execution_count": 1,
   "id": "6710c481",
   "metadata": {},
   "outputs": [],
   "source": [
    "import pandas as pd"
   ]
  },
  {
   "cell_type": "markdown",
   "id": "17b9feff",
   "metadata": {},
   "source": [
    "## Импортируем файл"
   ]
  },
  {
   "cell_type": "code",
   "execution_count": 492,
   "id": "4afde419",
   "metadata": {
    "scrolled": true
   },
   "outputs": [
    {
     "data": {
      "text/html": [
       "<div>\n",
       "<style scoped>\n",
       "    .dataframe tbody tr th:only-of-type {\n",
       "        vertical-align: middle;\n",
       "    }\n",
       "\n",
       "    .dataframe tbody tr th {\n",
       "        vertical-align: top;\n",
       "    }\n",
       "\n",
       "    .dataframe thead th {\n",
       "        text-align: right;\n",
       "    }\n",
       "</style>\n",
       "<table border=\"1\" class=\"dataframe\">\n",
       "  <thead>\n",
       "    <tr style=\"text-align: right;\">\n",
       "      <th></th>\n",
       "      <th>City</th>\n",
       "      <th>Edition</th>\n",
       "      <th>Sport</th>\n",
       "      <th>Discipline</th>\n",
       "      <th>Athlete</th>\n",
       "      <th>NOC</th>\n",
       "      <th>Gender</th>\n",
       "      <th>Event</th>\n",
       "      <th>Event_gender</th>\n",
       "      <th>Medal</th>\n",
       "    </tr>\n",
       "  </thead>\n",
       "  <tbody>\n",
       "    <tr>\n",
       "      <th>0</th>\n",
       "      <td>Athens</td>\n",
       "      <td>1896</td>\n",
       "      <td>Aquatics</td>\n",
       "      <td>Swimming</td>\n",
       "      <td>HAJOS, Alfred</td>\n",
       "      <td>HUN</td>\n",
       "      <td>Men</td>\n",
       "      <td>100m freestyle</td>\n",
       "      <td>M</td>\n",
       "      <td>Gold</td>\n",
       "    </tr>\n",
       "    <tr>\n",
       "      <th>1</th>\n",
       "      <td>Athens</td>\n",
       "      <td>1896</td>\n",
       "      <td>Aquatics</td>\n",
       "      <td>Swimming</td>\n",
       "      <td>HERSCHMANN, Otto</td>\n",
       "      <td>AUT</td>\n",
       "      <td>Men</td>\n",
       "      <td>100m freestyle</td>\n",
       "      <td>M</td>\n",
       "      <td>Silver</td>\n",
       "    </tr>\n",
       "    <tr>\n",
       "      <th>2</th>\n",
       "      <td>Athens</td>\n",
       "      <td>1896</td>\n",
       "      <td>Aquatics</td>\n",
       "      <td>Swimming</td>\n",
       "      <td>DRIVAS, Dimitrios</td>\n",
       "      <td>GRE</td>\n",
       "      <td>Men</td>\n",
       "      <td>100m freestyle for sailors</td>\n",
       "      <td>M</td>\n",
       "      <td>Bronze</td>\n",
       "    </tr>\n",
       "    <tr>\n",
       "      <th>3</th>\n",
       "      <td>Athens</td>\n",
       "      <td>1896</td>\n",
       "      <td>Aquatics</td>\n",
       "      <td>Swimming</td>\n",
       "      <td>MALOKINIS, Ioannis</td>\n",
       "      <td>GRE</td>\n",
       "      <td>Men</td>\n",
       "      <td>100m freestyle for sailors</td>\n",
       "      <td>M</td>\n",
       "      <td>Gold</td>\n",
       "    </tr>\n",
       "    <tr>\n",
       "      <th>4</th>\n",
       "      <td>Athens</td>\n",
       "      <td>1896</td>\n",
       "      <td>Aquatics</td>\n",
       "      <td>Swimming</td>\n",
       "      <td>CHASAPIS, Spiridon</td>\n",
       "      <td>GRE</td>\n",
       "      <td>Men</td>\n",
       "      <td>100m freestyle for sailors</td>\n",
       "      <td>M</td>\n",
       "      <td>Silver</td>\n",
       "    </tr>\n",
       "    <tr>\n",
       "      <th>...</th>\n",
       "      <td>...</td>\n",
       "      <td>...</td>\n",
       "      <td>...</td>\n",
       "      <td>...</td>\n",
       "      <td>...</td>\n",
       "      <td>...</td>\n",
       "      <td>...</td>\n",
       "      <td>...</td>\n",
       "      <td>...</td>\n",
       "      <td>...</td>\n",
       "    </tr>\n",
       "    <tr>\n",
       "      <th>29211</th>\n",
       "      <td>Beijing</td>\n",
       "      <td>2008</td>\n",
       "      <td>Wrestling</td>\n",
       "      <td>Wrestling Gre-R</td>\n",
       "      <td>ENGLICH, Mirko</td>\n",
       "      <td>GER</td>\n",
       "      <td>Men</td>\n",
       "      <td>84 - 96kg</td>\n",
       "      <td>M</td>\n",
       "      <td>Silver</td>\n",
       "    </tr>\n",
       "    <tr>\n",
       "      <th>29212</th>\n",
       "      <td>Beijing</td>\n",
       "      <td>2008</td>\n",
       "      <td>Wrestling</td>\n",
       "      <td>Wrestling Gre-R</td>\n",
       "      <td>MIZGAITIS, Mindaugas</td>\n",
       "      <td>LTU</td>\n",
       "      <td>Men</td>\n",
       "      <td>96 - 120kg</td>\n",
       "      <td>M</td>\n",
       "      <td>Bronze</td>\n",
       "    </tr>\n",
       "    <tr>\n",
       "      <th>29213</th>\n",
       "      <td>Beijing</td>\n",
       "      <td>2008</td>\n",
       "      <td>Wrestling</td>\n",
       "      <td>Wrestling Gre-R</td>\n",
       "      <td>PATRIKEEV, Yuri</td>\n",
       "      <td>ARM</td>\n",
       "      <td>Men</td>\n",
       "      <td>96 - 120kg</td>\n",
       "      <td>M</td>\n",
       "      <td>Bronze</td>\n",
       "    </tr>\n",
       "    <tr>\n",
       "      <th>29214</th>\n",
       "      <td>Beijing</td>\n",
       "      <td>2008</td>\n",
       "      <td>Wrestling</td>\n",
       "      <td>Wrestling Gre-R</td>\n",
       "      <td>LOPEZ, Mijain</td>\n",
       "      <td>CUB</td>\n",
       "      <td>Men</td>\n",
       "      <td>96 - 120kg</td>\n",
       "      <td>M</td>\n",
       "      <td>Gold</td>\n",
       "    </tr>\n",
       "    <tr>\n",
       "      <th>29215</th>\n",
       "      <td>Beijing</td>\n",
       "      <td>2008</td>\n",
       "      <td>Wrestling</td>\n",
       "      <td>Wrestling Gre-R</td>\n",
       "      <td>BAROEV, Khasan</td>\n",
       "      <td>RUS</td>\n",
       "      <td>Men</td>\n",
       "      <td>96 - 120kg</td>\n",
       "      <td>M</td>\n",
       "      <td>Silver</td>\n",
       "    </tr>\n",
       "  </tbody>\n",
       "</table>\n",
       "<p>29216 rows × 10 columns</p>\n",
       "</div>"
      ],
      "text/plain": [
       "          City  Edition      Sport       Discipline               Athlete  \\\n",
       "0       Athens     1896   Aquatics         Swimming         HAJOS, Alfred   \n",
       "1       Athens     1896   Aquatics         Swimming      HERSCHMANN, Otto   \n",
       "2       Athens     1896   Aquatics         Swimming     DRIVAS, Dimitrios   \n",
       "3       Athens     1896   Aquatics         Swimming    MALOKINIS, Ioannis   \n",
       "4       Athens     1896   Aquatics         Swimming    CHASAPIS, Spiridon   \n",
       "...        ...      ...        ...              ...                   ...   \n",
       "29211  Beijing     2008  Wrestling  Wrestling Gre-R        ENGLICH, Mirko   \n",
       "29212  Beijing     2008  Wrestling  Wrestling Gre-R  MIZGAITIS, Mindaugas   \n",
       "29213  Beijing     2008  Wrestling  Wrestling Gre-R       PATRIKEEV, Yuri   \n",
       "29214  Beijing     2008  Wrestling  Wrestling Gre-R         LOPEZ, Mijain   \n",
       "29215  Beijing     2008  Wrestling  Wrestling Gre-R        BAROEV, Khasan   \n",
       "\n",
       "       NOC Gender                       Event Event_gender   Medal  \n",
       "0      HUN    Men              100m freestyle            M    Gold  \n",
       "1      AUT    Men              100m freestyle            M  Silver  \n",
       "2      GRE    Men  100m freestyle for sailors            M  Bronze  \n",
       "3      GRE    Men  100m freestyle for sailors            M    Gold  \n",
       "4      GRE    Men  100m freestyle for sailors            M  Silver  \n",
       "...    ...    ...                         ...          ...     ...  \n",
       "29211  GER    Men                   84 - 96kg            M  Silver  \n",
       "29212  LTU    Men                  96 - 120kg            M  Bronze  \n",
       "29213  ARM    Men                  96 - 120kg            M  Bronze  \n",
       "29214  CUB    Men                  96 - 120kg            M    Gold  \n",
       "29215  RUS    Men                  96 - 120kg            M  Silver  \n",
       "\n",
       "[29216 rows x 10 columns]"
      ]
     },
     "execution_count": 492,
     "metadata": {},
     "output_type": "execute_result"
    }
   ],
   "source": [
    "df = pd.read_csv(\"olimpic_medals.csv\")\n",
    "df"
   ]
  },
  {
   "cell_type": "markdown",
   "id": "58dc6844",
   "metadata": {},
   "source": [
    "## Сколько медалей выиграл Jesse Owens в 1936?"
   ]
  },
  {
   "cell_type": "code",
   "execution_count": 355,
   "id": "9a972ca9",
   "metadata": {},
   "outputs": [
    {
     "data": {
      "text/plain": [
       "4"
      ]
     },
     "execution_count": 355,
     "metadata": {},
     "output_type": "execute_result"
    }
   ],
   "source": [
    "value_counts = df[df.Edition == 1936]['Athlete'].value_counts()\n",
    "value_counts['OWENS, Jesse']"
   ]
  },
  {
   "cell_type": "markdown",
   "id": "d2010833",
   "metadata": {},
   "source": [
    "## Какая страна выйграла большинство золотых медалей мужчинами в бадминтоне? "
   ]
  },
  {
   "cell_type": "code",
   "execution_count": 356,
   "id": "f0c7f4bb",
   "metadata": {},
   "outputs": [
    {
     "data": {
      "text/plain": [
       "Atlanta      4\n",
       "Sydney       4\n",
       "Athens       4\n",
       "Beijing      4\n",
       "Barcelona    3\n",
       "Name: City, dtype: int64"
      ]
     },
     "execution_count": 356,
     "metadata": {},
     "output_type": "execute_result"
    }
   ],
   "source": [
    "value_counts = df[(df.Sport == 'Badminton') & (df.Gender == 'Men') & (df.Medal == 'Gold')]\n",
    "value_counts['City'].value_counts()"
   ]
  },
  {
   "cell_type": "markdown",
   "id": "8533bab1",
   "metadata": {},
   "source": [
    "## Какие три страны выйграли большинство медалей в последние годы (с 1984 по 2008)?"
   ]
  },
  {
   "cell_type": "code",
   "execution_count": 357,
   "id": "077c2f99",
   "metadata": {},
   "outputs": [
    {
     "data": {
      "text/plain": [
       "USA    1837\n",
       "AUS     762\n",
       "GER     691\n",
       "CHN     679\n",
       "RUS     638\n",
       "       ... \n",
       "ISV       1\n",
       "AHO       1\n",
       "DJI       1\n",
       "SEN       1\n",
       "AFG       1\n",
       "Name: NOC, Length: 124, dtype: int64"
      ]
     },
     "execution_count": 357,
     "metadata": {},
     "output_type": "execute_result"
    }
   ],
   "source": [
    "value_counts = df[(df.Edition >= 1984) & (df.Edition <= 2008)]\n",
    "value_counts['NOC'].value_counts()"
   ]
  },
  {
   "cell_type": "markdown",
   "id": "4a2e6297",
   "metadata": {},
   "source": [
    "## Покажите мужчин золотых медалистов по 100m. Выведите результаты по убыванию года выйгрыша. Покажите город в котором проходила олимпиала, год, имя атлета и страну за которую он выступал."
   ]
  },
  {
   "cell_type": "code",
   "execution_count": 420,
   "id": "9be1624d",
   "metadata": {},
   "outputs": [
    {
     "data": {
      "text/html": [
       "<div>\n",
       "<style scoped>\n",
       "    .dataframe tbody tr th:only-of-type {\n",
       "        vertical-align: middle;\n",
       "    }\n",
       "\n",
       "    .dataframe tbody tr th {\n",
       "        vertical-align: top;\n",
       "    }\n",
       "\n",
       "    .dataframe thead th {\n",
       "        text-align: right;\n",
       "    }\n",
       "</style>\n",
       "<table border=\"1\" class=\"dataframe\">\n",
       "  <thead>\n",
       "    <tr style=\"text-align: right;\">\n",
       "      <th></th>\n",
       "      <th>City</th>\n",
       "      <th>Edition</th>\n",
       "      <th>Athlete</th>\n",
       "      <th>NOC</th>\n",
       "    </tr>\n",
       "  </thead>\n",
       "  <tbody>\n",
       "    <tr>\n",
       "      <th>27552</th>\n",
       "      <td>Beijing</td>\n",
       "      <td>2008</td>\n",
       "      <td>BOLT, Usain</td>\n",
       "      <td>JAM</td>\n",
       "    </tr>\n",
       "    <tr>\n",
       "      <th>25539</th>\n",
       "      <td>Athens</td>\n",
       "      <td>2004</td>\n",
       "      <td>GATLIN, Justin</td>\n",
       "      <td>USA</td>\n",
       "    </tr>\n",
       "    <tr>\n",
       "      <th>23521</th>\n",
       "      <td>Sydney</td>\n",
       "      <td>2000</td>\n",
       "      <td>GREENE, Maurice</td>\n",
       "      <td>USA</td>\n",
       "    </tr>\n",
       "    <tr>\n",
       "      <th>21598</th>\n",
       "      <td>Atlanta</td>\n",
       "      <td>1996</td>\n",
       "      <td>BAILEY, Donovan</td>\n",
       "      <td>CAN</td>\n",
       "    </tr>\n",
       "    <tr>\n",
       "      <th>19859</th>\n",
       "      <td>Barcelona</td>\n",
       "      <td>1992</td>\n",
       "      <td>CHRISTIE, Linford</td>\n",
       "      <td>GBR</td>\n",
       "    </tr>\n",
       "    <tr>\n",
       "      <th>18284</th>\n",
       "      <td>Seoul</td>\n",
       "      <td>1988</td>\n",
       "      <td>LEWIS, Carl</td>\n",
       "      <td>USA</td>\n",
       "    </tr>\n",
       "    <tr>\n",
       "      <th>16794</th>\n",
       "      <td>Los Angeles</td>\n",
       "      <td>1984</td>\n",
       "      <td>LEWIS, Carl</td>\n",
       "      <td>USA</td>\n",
       "    </tr>\n",
       "    <tr>\n",
       "      <th>15374</th>\n",
       "      <td>Moscow</td>\n",
       "      <td>1980</td>\n",
       "      <td>WELLS, Allan</td>\n",
       "      <td>GBR</td>\n",
       "    </tr>\n",
       "    <tr>\n",
       "      <th>14069</th>\n",
       "      <td>Montreal</td>\n",
       "      <td>1976</td>\n",
       "      <td>CRAWFORD, Hasely</td>\n",
       "      <td>TRI</td>\n",
       "    </tr>\n",
       "    <tr>\n",
       "      <th>12902</th>\n",
       "      <td>Munich</td>\n",
       "      <td>1972</td>\n",
       "      <td>BORZOV, Valery</td>\n",
       "      <td>URS</td>\n",
       "    </tr>\n",
       "    <tr>\n",
       "      <th>11865</th>\n",
       "      <td>Mexico</td>\n",
       "      <td>1968</td>\n",
       "      <td>HINES, James Ray</td>\n",
       "      <td>USA</td>\n",
       "    </tr>\n",
       "    <tr>\n",
       "      <th>10823</th>\n",
       "      <td>Tokyo</td>\n",
       "      <td>1964</td>\n",
       "      <td>HAYES, Robert</td>\n",
       "      <td>USA</td>\n",
       "    </tr>\n",
       "    <tr>\n",
       "      <th>9924</th>\n",
       "      <td>Rome</td>\n",
       "      <td>1960</td>\n",
       "      <td>HARY, Armin</td>\n",
       "      <td>EUA</td>\n",
       "    </tr>\n",
       "    <tr>\n",
       "      <th>9009</th>\n",
       "      <td>Melbourne / Stockholm</td>\n",
       "      <td>1956</td>\n",
       "      <td>MORROW, Robert Joseph</td>\n",
       "      <td>USA</td>\n",
       "    </tr>\n",
       "    <tr>\n",
       "      <th>8121</th>\n",
       "      <td>Helsinki</td>\n",
       "      <td>1952</td>\n",
       "      <td>REMIGINO, Lindy</td>\n",
       "      <td>USA</td>\n",
       "    </tr>\n",
       "    <tr>\n",
       "      <th>7302</th>\n",
       "      <td>London</td>\n",
       "      <td>1948</td>\n",
       "      <td>DILLARD, Harrison</td>\n",
       "      <td>USA</td>\n",
       "    </tr>\n",
       "    <tr>\n",
       "      <th>6427</th>\n",
       "      <td>Berlin</td>\n",
       "      <td>1936</td>\n",
       "      <td>OWENS, Jesse</td>\n",
       "      <td>USA</td>\n",
       "    </tr>\n",
       "    <tr>\n",
       "      <th>5806</th>\n",
       "      <td>Los Angeles</td>\n",
       "      <td>1932</td>\n",
       "      <td>TOLAN, Eddie</td>\n",
       "      <td>USA</td>\n",
       "    </tr>\n",
       "    <tr>\n",
       "      <th>5095</th>\n",
       "      <td>Amsterdam</td>\n",
       "      <td>1928</td>\n",
       "      <td>WILLIAMS, Percy</td>\n",
       "      <td>CAN</td>\n",
       "    </tr>\n",
       "    <tr>\n",
       "      <th>4236</th>\n",
       "      <td>Paris</td>\n",
       "      <td>1924</td>\n",
       "      <td>ABRAHAMS, Harold</td>\n",
       "      <td>GBR</td>\n",
       "    </tr>\n",
       "    <tr>\n",
       "      <th>2996</th>\n",
       "      <td>Antwerp</td>\n",
       "      <td>1920</td>\n",
       "      <td>PADDOCK, Charles</td>\n",
       "      <td>USA</td>\n",
       "    </tr>\n",
       "    <tr>\n",
       "      <th>2022</th>\n",
       "      <td>Stockholm</td>\n",
       "      <td>1912</td>\n",
       "      <td>CRAIG, Ralph</td>\n",
       "      <td>USA</td>\n",
       "    </tr>\n",
       "    <tr>\n",
       "      <th>1191</th>\n",
       "      <td>London</td>\n",
       "      <td>1908</td>\n",
       "      <td>WALKER, Reginald</td>\n",
       "      <td>RSA</td>\n",
       "    </tr>\n",
       "    <tr>\n",
       "      <th>737</th>\n",
       "      <td>St Louis</td>\n",
       "      <td>1904</td>\n",
       "      <td>HAHN, Archie</td>\n",
       "      <td>USA</td>\n",
       "    </tr>\n",
       "    <tr>\n",
       "      <th>231</th>\n",
       "      <td>Paris</td>\n",
       "      <td>1900</td>\n",
       "      <td>JARVIS, Francis</td>\n",
       "      <td>USA</td>\n",
       "    </tr>\n",
       "    <tr>\n",
       "      <th>13</th>\n",
       "      <td>Athens</td>\n",
       "      <td>1896</td>\n",
       "      <td>BURKE, Thomas</td>\n",
       "      <td>USA</td>\n",
       "    </tr>\n",
       "  </tbody>\n",
       "</table>\n",
       "</div>"
      ],
      "text/plain": [
       "                        City  Edition                Athlete  NOC\n",
       "27552                Beijing     2008            BOLT, Usain  JAM\n",
       "25539                 Athens     2004         GATLIN, Justin  USA\n",
       "23521                 Sydney     2000        GREENE, Maurice  USA\n",
       "21598                Atlanta     1996        BAILEY, Donovan  CAN\n",
       "19859              Barcelona     1992      CHRISTIE, Linford  GBR\n",
       "18284                  Seoul     1988            LEWIS, Carl  USA\n",
       "16794            Los Angeles     1984            LEWIS, Carl  USA\n",
       "15374                 Moscow     1980           WELLS, Allan  GBR\n",
       "14069               Montreal     1976       CRAWFORD, Hasely  TRI\n",
       "12902                 Munich     1972         BORZOV, Valery  URS\n",
       "11865                 Mexico     1968       HINES, James Ray  USA\n",
       "10823                  Tokyo     1964          HAYES, Robert  USA\n",
       "9924                    Rome     1960            HARY, Armin  EUA\n",
       "9009   Melbourne / Stockholm     1956  MORROW, Robert Joseph  USA\n",
       "8121                Helsinki     1952        REMIGINO, Lindy  USA\n",
       "7302                  London     1948      DILLARD, Harrison  USA\n",
       "6427                  Berlin     1936           OWENS, Jesse  USA\n",
       "5806             Los Angeles     1932           TOLAN, Eddie  USA\n",
       "5095               Amsterdam     1928        WILLIAMS, Percy  CAN\n",
       "4236                   Paris     1924       ABRAHAMS, Harold  GBR\n",
       "2996                 Antwerp     1920       PADDOCK, Charles  USA\n",
       "2022               Stockholm     1912           CRAIG, Ralph  USA\n",
       "1191                  London     1908       WALKER, Reginald  RSA\n",
       "737                 St Louis     1904           HAHN, Archie  USA\n",
       "231                    Paris     1900        JARVIS, Francis  USA\n",
       "13                    Athens     1896          BURKE, Thomas  USA"
      ]
     },
     "execution_count": 420,
     "metadata": {},
     "output_type": "execute_result"
    }
   ],
   "source": [
    "for_view = df[(df.Event_gender == 'M') & (df.Medal == 'Gold') & (df.Event == '100m')].sort_values(\"Edition\", ascending=False)\n",
    "for_view.loc[:,['City', 'Edition', 'Athlete', 'NOC']]"
   ]
  },
  {
   "cell_type": "markdown",
   "id": "1ca86e23",
   "metadata": {},
   "source": [
    "## Как много медалей было выйграно мужчинами и женщинами в истории олимпиады. Как много золотых, серебрянных и бронзовых медалей было выйграно каждым полом?"
   ]
  },
  {
   "cell_type": "code",
   "execution_count": 359,
   "id": "09bc05f1",
   "metadata": {},
   "outputs": [
    {
     "name": "stdout",
     "output_type": "stream",
     "text": [
      "Всего медалей разыграно:  29216\n"
     ]
    },
    {
     "data": {
      "text/plain": [
       "Men      21721\n",
       "Women     7495\n",
       "Name: Gender, dtype: int64"
      ]
     },
     "execution_count": 359,
     "metadata": {},
     "output_type": "execute_result"
    }
   ],
   "source": [
    "print('Всего медалей разыграно: ', len(df.index))\n",
    "\n",
    "gender = df.Gender.value_counts()\n",
    "gender"
   ]
  },
  {
   "cell_type": "markdown",
   "id": "1a8af2a1",
   "metadata": {},
   "source": [
    "## Используя groupby(), постройте график числа всех медалей выйгранных на каждой олимпиаде."
   ]
  },
  {
   "cell_type": "code",
   "execution_count": 98,
   "id": "64f5fe9c",
   "metadata": {},
   "outputs": [],
   "source": [
    "import matplotlib"
   ]
  },
  {
   "cell_type": "code",
   "execution_count": 360,
   "id": "e5645154",
   "metadata": {},
   "outputs": [
    {
     "data": {
      "text/plain": [
       "<AxesSubplot:xlabel='Edition'>"
      ]
     },
     "execution_count": 360,
     "metadata": {},
     "output_type": "execute_result"
    },
    {
     "data": {
      "image/png": "[encoded data removed]",
      "text/plain": [
       "<Figure size 720x432 with 1 Axes>"
      ]
     },
     "metadata": {
      "needs_background": "light"
     },
     "output_type": "display_data"
    }
   ],
   "source": [
    "df.groupby('Edition').agg({'Medal': ['count']}).plot(figsize=(10, 6))"
   ]
  },
  {
   "cell_type": "markdown",
   "id": "1683e1e6",
   "metadata": {},
   "source": [
    "## Создайте список показывающий число всех медалей выйгранных каждой страной в течение всей истории олимпийских игр. Для каждой страны, необходимо показать год первой и последней заработанной медали."
   ]
  },
  {
   "cell_type": "code",
   "execution_count": 144,
   "id": "9241cdac",
   "metadata": {},
   "outputs": [
    {
     "data": {
      "text/html": [
       "<div>\n",
       "<style scoped>\n",
       "    .dataframe tbody tr th:only-of-type {\n",
       "        vertical-align: middle;\n",
       "    }\n",
       "\n",
       "    .dataframe tbody tr th {\n",
       "        vertical-align: top;\n",
       "    }\n",
       "\n",
       "    .dataframe thead tr th {\n",
       "        text-align: left;\n",
       "    }\n",
       "\n",
       "    .dataframe thead tr:last-of-type th {\n",
       "        text-align: right;\n",
       "    }\n",
       "</style>\n",
       "<table border=\"1\" class=\"dataframe\">\n",
       "  <thead>\n",
       "    <tr>\n",
       "      <th></th>\n",
       "      <th>Medal</th>\n",
       "      <th colspan=\"2\" halign=\"left\">Edition</th>\n",
       "    </tr>\n",
       "    <tr>\n",
       "      <th></th>\n",
       "      <th>count</th>\n",
       "      <th>min</th>\n",
       "      <th>max</th>\n",
       "    </tr>\n",
       "    <tr>\n",
       "      <th>NOC</th>\n",
       "      <th></th>\n",
       "      <th></th>\n",
       "      <th></th>\n",
       "    </tr>\n",
       "  </thead>\n",
       "  <tbody>\n",
       "    <tr>\n",
       "      <th>AFG</th>\n",
       "      <td>1</td>\n",
       "      <td>2008</td>\n",
       "      <td>2008</td>\n",
       "    </tr>\n",
       "    <tr>\n",
       "      <th>AHO</th>\n",
       "      <td>1</td>\n",
       "      <td>1988</td>\n",
       "      <td>1988</td>\n",
       "    </tr>\n",
       "    <tr>\n",
       "      <th>ALG</th>\n",
       "      <td>14</td>\n",
       "      <td>1984</td>\n",
       "      <td>2008</td>\n",
       "    </tr>\n",
       "    <tr>\n",
       "      <th>ANZ</th>\n",
       "      <td>29</td>\n",
       "      <td>1908</td>\n",
       "      <td>1912</td>\n",
       "    </tr>\n",
       "    <tr>\n",
       "      <th>ARG</th>\n",
       "      <td>239</td>\n",
       "      <td>1924</td>\n",
       "      <td>2008</td>\n",
       "    </tr>\n",
       "    <tr>\n",
       "      <th>...</th>\n",
       "      <td>...</td>\n",
       "      <td>...</td>\n",
       "      <td>...</td>\n",
       "    </tr>\n",
       "    <tr>\n",
       "      <th>VIE</th>\n",
       "      <td>2</td>\n",
       "      <td>2000</td>\n",
       "      <td>2008</td>\n",
       "    </tr>\n",
       "    <tr>\n",
       "      <th>YUG</th>\n",
       "      <td>435</td>\n",
       "      <td>1924</td>\n",
       "      <td>2000</td>\n",
       "    </tr>\n",
       "    <tr>\n",
       "      <th>ZAM</th>\n",
       "      <td>2</td>\n",
       "      <td>1984</td>\n",
       "      <td>1996</td>\n",
       "    </tr>\n",
       "    <tr>\n",
       "      <th>ZIM</th>\n",
       "      <td>23</td>\n",
       "      <td>1980</td>\n",
       "      <td>2008</td>\n",
       "    </tr>\n",
       "    <tr>\n",
       "      <th>ZZX</th>\n",
       "      <td>48</td>\n",
       "      <td>1896</td>\n",
       "      <td>1904</td>\n",
       "    </tr>\n",
       "  </tbody>\n",
       "</table>\n",
       "<p>138 rows × 3 columns</p>\n",
       "</div>"
      ],
      "text/plain": [
       "    Medal Edition      \n",
       "    count     min   max\n",
       "NOC                    \n",
       "AFG     1    2008  2008\n",
       "AHO     1    1988  1988\n",
       "ALG    14    1984  2008\n",
       "ANZ    29    1908  1912\n",
       "ARG   239    1924  2008\n",
       "..    ...     ...   ...\n",
       "VIE     2    2000  2008\n",
       "YUG   435    1924  2000\n",
       "ZAM     2    1984  1996\n",
       "ZIM    23    1980  2008\n",
       "ZZX    48    1896  1904\n",
       "\n",
       "[138 rows x 3 columns]"
      ]
     },
     "execution_count": 144,
     "metadata": {},
     "output_type": "execute_result"
    }
   ],
   "source": [
    "df.groupby('NOC').agg({'Medal': ['count'], 'Edition': ['min', 'max']})"
   ]
  },
  {
   "cell_type": "markdown",
   "id": "20632b58",
   "metadata": {},
   "source": [
    "## Атлеты выйгравшие медали в Beijing на дистанции 100m или 200m"
   ]
  },
  {
   "cell_type": "code",
   "execution_count": 361,
   "id": "3274eda8",
   "metadata": {
    "scrolled": true
   },
   "outputs": [
    {
     "data": {
      "text/plain": [
       "27551                 DIX, Walter\n",
       "27552                 BOLT, Usain\n",
       "27553           THOMPSON, Richard\n",
       "27554          FRASER, Shelly-ann\n",
       "27555            SIMPSON, Sherone\n",
       "27556             STEWART, Kerron\n",
       "27569                 DIX, Walter\n",
       "27570                 BOLT, Usain\n",
       "27571             CRAWFORD, Shawn\n",
       "27572             STEWART, Kerron\n",
       "27573    CAMPBELL-BROWN, Veronica\n",
       "27574              FELIX, Allyson\n",
       "Name: Athlete, dtype: object"
      ]
     },
     "execution_count": 361,
     "metadata": {},
     "output_type": "execute_result"
    }
   ],
   "source": [
    "df[(df.City == 'Beijing') & (df.Event.isin(['100m','200m']))]['Athlete']"
   ]
  },
  {
   "cell_type": "markdown",
   "id": "b77f0ddf",
   "metadata": {},
   "source": [
    "## Постройте график числа золотых медалей выйгранных США мужчинами и женщинами в атлетике."
   ]
  },
  {
   "cell_type": "code",
   "execution_count": 421,
   "id": "c86e0f94",
   "metadata": {},
   "outputs": [
    {
     "data": {
      "text/plain": [
       "<AxesSubplot:xlabel='Edition'>"
      ]
     },
     "execution_count": 421,
     "metadata": {},
     "output_type": "execute_result"
    },
    {
     "data": {
      "image/png": "[encoded data removed]",
      "text/plain": [
       "<Figure size 1080x360 with 1 Axes>"
      ]
     },
     "metadata": {
      "needs_background": "light"
     },
     "output_type": "display_data"
    }
   ],
   "source": [
    "usa = df[(df.NOC == 'USA') & (df.Medal == 'Gold') & (df.Sport == 'Athletics')]\n",
    "usa.groupby('Edition').agg({'Medal': ['count']}).plot.bar(figsize=(15, 5))"
   ]
  },
  {
   "cell_type": "markdown",
   "id": "0278e8ed",
   "metadata": {},
   "source": [
    "## Постройте график 5 атлетов которые выйграли большинство золотых медалей."
   ]
  },
  {
   "cell_type": "code",
   "execution_count": 422,
   "id": "39661832",
   "metadata": {
    "scrolled": true
   },
   "outputs": [
    {
     "data": {
      "text/plain": [
       "<AxesSubplot:>"
      ]
     },
     "execution_count": 422,
     "metadata": {},
     "output_type": "execute_result"
    },
    {
     "data": {
      "image/png": "[encoded data removed]",
      "text/plain": [
       "<Figure size 432x288 with 1 Axes>"
      ]
     },
     "metadata": {
      "needs_background": "light"
     },
     "output_type": "display_data"
    }
   ],
   "source": [
    "gold_meals = df[(df.Medal == 'Gold')]\n",
    "gold_meals['Athlete'].value_counts().head(5).plot.bar()\n"
   ]
  },
  {
   "cell_type": "markdown",
   "id": "5ecde6e2",
   "metadata": {},
   "source": [
    "## Покажите суммарное количество медалей выйгранных странами в последних олимпийских играх."
   ]
  },
  {
   "cell_type": "code",
   "execution_count": 429,
   "id": "07d6b195",
   "metadata": {},
   "outputs": [
    {
     "data": {
      "text/html": [
       "<div>\n",
       "<style scoped>\n",
       "    .dataframe tbody tr th:only-of-type {\n",
       "        vertical-align: middle;\n",
       "    }\n",
       "\n",
       "    .dataframe tbody tr th {\n",
       "        vertical-align: top;\n",
       "    }\n",
       "\n",
       "    .dataframe thead tr th {\n",
       "        text-align: left;\n",
       "    }\n",
       "\n",
       "    .dataframe thead tr:last-of-type th {\n",
       "        text-align: right;\n",
       "    }\n",
       "</style>\n",
       "<table border=\"1\" class=\"dataframe\">\n",
       "  <thead>\n",
       "    <tr>\n",
       "      <th></th>\n",
       "      <th>Medal</th>\n",
       "    </tr>\n",
       "    <tr>\n",
       "      <th></th>\n",
       "      <th>count</th>\n",
       "    </tr>\n",
       "    <tr>\n",
       "      <th>NOC</th>\n",
       "      <th></th>\n",
       "    </tr>\n",
       "  </thead>\n",
       "  <tbody>\n",
       "    <tr>\n",
       "      <th>AFG</th>\n",
       "      <td>1</td>\n",
       "    </tr>\n",
       "    <tr>\n",
       "      <th>ALG</th>\n",
       "      <td>2</td>\n",
       "    </tr>\n",
       "    <tr>\n",
       "      <th>ARG</th>\n",
       "      <td>51</td>\n",
       "    </tr>\n",
       "    <tr>\n",
       "      <th>ARM</th>\n",
       "      <td>6</td>\n",
       "    </tr>\n",
       "    <tr>\n",
       "      <th>AUS</th>\n",
       "      <td>149</td>\n",
       "    </tr>\n",
       "    <tr>\n",
       "      <th>...</th>\n",
       "      <td>...</td>\n",
       "    </tr>\n",
       "    <tr>\n",
       "      <th>USA</th>\n",
       "      <td>315</td>\n",
       "    </tr>\n",
       "    <tr>\n",
       "      <th>UZB</th>\n",
       "      <td>6</td>\n",
       "    </tr>\n",
       "    <tr>\n",
       "      <th>VEN</th>\n",
       "      <td>1</td>\n",
       "    </tr>\n",
       "    <tr>\n",
       "      <th>VIE</th>\n",
       "      <td>1</td>\n",
       "    </tr>\n",
       "    <tr>\n",
       "      <th>ZIM</th>\n",
       "      <td>4</td>\n",
       "    </tr>\n",
       "  </tbody>\n",
       "</table>\n",
       "<p>86 rows × 1 columns</p>\n",
       "</div>"
      ],
      "text/plain": [
       "    Medal\n",
       "    count\n",
       "NOC      \n",
       "AFG     1\n",
       "ALG     2\n",
       "ARG    51\n",
       "ARM     6\n",
       "AUS   149\n",
       "..    ...\n",
       "USA   315\n",
       "UZB     6\n",
       "VEN     1\n",
       "VIE     1\n",
       "ZIM     4\n",
       "\n",
       "[86 rows x 1 columns]"
      ]
     },
     "execution_count": 429,
     "metadata": {},
     "output_type": "execute_result"
    }
   ],
   "source": [
    "df[df.Edition == 2008].groupby('NOC').agg({'Medal': ['count']})"
   ]
  },
  {
   "cell_type": "markdown",
   "id": "964befd4",
   "metadata": {},
   "source": [
    "## Постройте таблицу в которой по годам всех олимпиад покажите топовых атлетов США(1 атлет на год) по общему количеству медалей. Включите дисциплину атлета.\n",
    "\n",
    "# нужна пощь, не смог решить"
   ]
  },
  {
   "cell_type": "code",
   "execution_count": 493,
   "id": "7d7df473",
   "metadata": {},
   "outputs": [
    {
     "name": "stdout",
     "output_type": "stream",
     "text": [
      "    Edition          Athlete Discipline\n",
      "27     1896  GARRETT, Robert  Athletics\n",
      "     Edition                    Athlete Discipline\n",
      "232     1900  TEWKSBURY, Walter B. John  Athletics\n",
      "     Edition       Athlete   Discipline\n",
      "964     1904  HEIDA, Anton  Artistic G.\n",
      "      Edition           Athlete Discipline\n",
      "1243     1908  SHERIDAN, Martin  Athletics\n",
      "      Edition                Athlete Discipline\n",
      "2682     1912  OSBURN, Carl Townsend   Shooting\n",
      "      Edition                 Athlete Discipline\n",
      "3841     1920  SPOONER, Lloyd Spencer   Shooting\n",
      "      Edition              Athlete Discipline\n",
      "4142     1924  WEISSMULLER, Johnny   Swimming\n",
      "      Edition                  Athlete Discipline\n",
      "5004     1928  GALITZEN, Michael Riley     Diving\n",
      "      Edition             Athlete Discipline\n",
      "5875     1932  DIDRIKSON, Mildred  Athletics\n",
      "      Edition       Athlete Discipline\n",
      "6427     1936  OWENS, Jesse  Athletics\n",
      "      Edition               Athlete Discipline\n",
      "7570     1948  HENRY, Frank Sherman   Dressage\n",
      "      Edition              Athlete Discipline\n",
      "8043     1952  KONNO, Ford Hiroshi   Swimming\n",
      "      Edition                Athlete Discipline\n",
      "9009     1956  MORROW, Robert Joseph  Athletics\n",
      "      Edition                      Athlete Discipline\n",
      "9818     1960  VON SALTZA, Susan Christina   Swimming\n",
      "       Edition                Athlete Discipline\n",
      "10690     1964  STOUDER, Sharon Marie   Swimming\n",
      "       Edition      Athlete Discipline\n",
      "11710     1968  SPITZ, Mark   Swimming\n",
      "       Edition      Athlete Discipline\n",
      "12740     1972  SPITZ, Mark   Swimming\n",
      "       Edition               Athlete Discipline\n",
      "13913     1976  NABER, John Phillips   Swimming\n",
      "       Edition           Athlete   Discipline\n",
      "17359     1984  RETTON, Mary-Lou  Artistic G.\n",
      "       Edition          Athlete Discipline\n",
      "18077     1988  BIONDI, Matthew   Swimming\n",
      "       Edition          Athlete   Discipline\n",
      "20521     1992  MILLER, Shannon  Artistic G.\n",
      "       Edition         Athlete Discipline\n",
      "21329     1996  MARTINO, Angel   Swimming\n",
      "       Edition       Athlete Discipline\n",
      "23212     2000  TORRES, Dara   Swimming\n",
      "       Edition          Athlete Discipline\n",
      "25225     2004  PHELPS, Michael   Swimming\n",
      "       Edition          Athlete Discipline\n",
      "27224     2008  PHELPS, Michael   Swimming\n"
     ]
    }
   ],
   "source": [
    "df = df[df.NOC == 'USA']\n",
    "\n",
    "for value_year, group_year in df.groupby('Edition'):\n",
    "    #print(value_year)\n",
    "    a = str(group_year['Athlete'].value_counts().head(1))\n",
    "    group_year = group_year.loc[:,['Edition', 'Athlete', 'Discipline']]\n",
    "    group_year = group_year[group_year.Athlete == a.split('    ')[0]].head(1)\n",
    "    print(group_year)"
   ]
  }
 ],
 "metadata": {
  "kernelspec": {
   "display_name": "Python 3 (ipykernel)",
   "language": "python",
   "name": "python3"
  },
  "language_info": {
   "codemirror_mode": {
    "name": "ipython",
    "version": 3
   },
   "file_extension": ".py",
   "mimetype": "text/x-python",
   "name": "python",
   "nbconvert_exporter": "python",
   "pygments_lexer": "ipython3",
   "version": "3.9.7"
  }
 },
 "nbformat": 4,
 "nbformat_minor": 5
}
